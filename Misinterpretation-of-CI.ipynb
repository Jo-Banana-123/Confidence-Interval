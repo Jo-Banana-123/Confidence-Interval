{
 "cells": [
  {
   "cell_type": "markdown",
   "id": "75190f7b",
   "metadata": {},
   "source": [
    "# Common Misinterpretations of Confidence Intervals (CI)\n",
    "\n",
    "### 1. “There’s a 95% probability that the true mean is inside this interval.”\n",
    "\n",
    "- Correction:\n",
    "The true mean is a fixed value — it's either inside or outside the interval.\n",
    "A 95% CI means that if you repeated the experiment (taking out different intervals) 100 times, about 95 intervals would contain the true mean.\n",
    "\n",
    "### 2. “The sample mean is always at the center of the confidence interval.”\n",
    "\n",
    "- Correction:\n",
    "That is only true for symmetric intervals like those from t- or z-distributions. For asymmetric intervals (e.g., from bootstrapping), the sample mean may not be centered, jsut contained inside the range.\n",
    "\n",
    "### 3. “95% of the data fall inside the 95% confidence interval.”\n",
    "\n",
    "- Correction:\n",
    "The CI is about the likelihood of the mean being inside a certain range, not the spread of raw data.\n",
    "Individual data points can lie far outside the interval.\n",
    "\n",
    "### 4. “Once calculated, there’s a 95% chance the true mean is in this interval.”\n",
    "\n",
    "- Correction:\n",
    "After computing the CI, there's no probability left — the interval either contains the true value or not.\n",
    "The 95% refers to the success rate of the actually being there after repeated sampling.\n",
    "\n",
    "### 5. “A wider CI means my estimate is more accurate.”\n",
    "\n",
    "- Correction:\n",
    "A narrower CI usually reflects greater precision (e.g., larger sample size). A wider CI can mean more uncertainty, not better accuracy.\n",
    "\n",
    "- Accuracy = how close to the true value\n",
    "- Precision = how tight the estimate range is\n",
    "\n",
    "### Recommended Interpretation\n",
    "“We used a method that gives correct intervals 95% of the time.\n",
    "Based on our sample, we estimate that the true population mean lies between A and B.”"
   ]
  }
 ],
 "metadata": {
  "language_info": {
   "name": "python"
  }
 },
 "nbformat": 4,
 "nbformat_minor": 5
}
