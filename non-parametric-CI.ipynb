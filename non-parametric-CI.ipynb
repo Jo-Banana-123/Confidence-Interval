{
 "cells": [
  {
   "cell_type": "markdown",
   "id": "52babcae",
   "metadata": {},
   "source": []
  },
  {
   "cell_type": "code",
   "execution_count": null,
   "id": "e401656b",
   "metadata": {
    "vscode": {
     "languageId": "plaintext"
    }
   },
   "outputs": [],
   "source": []
  }
 ],
 "metadata": {
  "language_info": {
   "name": "python"
  }
 },
 "nbformat": 4,
 "nbformat_minor": 5
}
